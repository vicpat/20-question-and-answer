{
  "nbformat": 4,
  "nbformat_minor": 0,
  "metadata": {
    "colab": {
      "provenance": [],
      "authorship_tag": "ABX9TyNKPLKhXZ/kdcg7vtAdXKXl",
      "include_colab_link": true
    },
    "kernelspec": {
      "name": "python3",
      "display_name": "Python 3"
    },
    "language_info": {
      "name": "python"
    }
  },
  "cells": [
    {
      "cell_type": "markdown",
      "metadata": {
        "id": "view-in-github",
        "colab_type": "text"
      },
      "source": [
        "<a href=\"https://colab.research.google.com/github/vicpat/20-question-and-answer/blob/main/Numpy.ipynb\" target=\"_parent\"><img src=\"https://colab.research.google.com/assets/colab-badge.svg\" alt=\"Open In Colab\"/></a>"
      ]
    },
    {
      "cell_type": "code",
      "execution_count": 1,
      "metadata": {
        "colab": {
          "base_uri": "https://localhost:8080/"
        },
        "id": "BEODs-l7SNOz",
        "outputId": "03c13b22-700a-4f0a-aff2-5af7598bd176"
      },
      "outputs": [
        {
          "output_type": "execute_result",
          "data": {
            "text/plain": [
              "<module 'numpy' from '/usr/local/lib/python3.9/dist-packages/numpy/__init__.py'>"
            ]
          },
          "metadata": {},
          "execution_count": 1
        }
      ],
      "source": [
        "import numpy as np\n",
        "np"
      ]
    },
    {
      "cell_type": "code",
      "source": [
        "#1.Create a null vector of size 10 but the fifth value which is 1.\n",
        "\n",
        "a=np.zeros(10)\n",
        "a[4]=1\n",
        "print(a)"
      ],
      "metadata": {
        "colab": {
          "base_uri": "https://localhost:8080/"
        },
        "id": "Em6fftlXSWKn",
        "outputId": "715aaa53-2a65-4938-e9dc-799b2c1b684a"
      },
      "execution_count": 2,
      "outputs": [
        {
          "output_type": "stream",
          "name": "stdout",
          "text": [
            "[0. 0. 0. 0. 1. 0. 0. 0. 0. 0.]\n"
          ]
        }
      ]
    },
    {
      "cell_type": "code",
      "source": [
        "#2.Create a vector with values ranging from 10 to 49.\n",
        "\n",
        "a=np.arange(10,50)\n",
        "print (a)"
      ],
      "metadata": {
        "colab": {
          "base_uri": "https://localhost:8080/"
        },
        "id": "aENvV65zSWMR",
        "outputId": "fd04703a-717d-408c-db19-93d47be931af"
      },
      "execution_count": 3,
      "outputs": [
        {
          "output_type": "stream",
          "name": "stdout",
          "text": [
            "[10 11 12 13 14 15 16 17 18 19 20 21 22 23 24 25 26 27 28 29 30 31 32 33\n",
            " 34 35 36 37 38 39 40 41 42 43 44 45 46 47 48 49]\n"
          ]
        }
      ]
    },
    {
      "cell_type": "code",
      "source": [
        "#3.Create a 3x3 matrix with values ranging from 0 to 8 \n",
        "\n",
        "v =  np.arange(0, 9).reshape(3,3)\n",
        "print(v)"
      ],
      "metadata": {
        "colab": {
          "base_uri": "https://localhost:8080/"
        },
        "id": "HSpGdm6mSWPD",
        "outputId": "9c4ff1bb-fd23-4851-f79a-6b61ac618c64"
      },
      "execution_count": 4,
      "outputs": [
        {
          "output_type": "stream",
          "name": "stdout",
          "text": [
            "[[0 1 2]\n",
            " [3 4 5]\n",
            " [6 7 8]]\n"
          ]
        }
      ]
    },
    {
      "cell_type": "code",
      "source": [
        "#4.Find indices of non-zero elements from [1,2,0,0,4,0]\n",
        "arr=np.array([1,2,0,0,4,0])\n",
        "print(\"Non-zero elements of the array arr:\",arr[np.nonzero(arr)])"
      ],
      "metadata": {
        "colab": {
          "base_uri": "https://localhost:8080/"
        },
        "id": "vtxTIt20SkpR",
        "outputId": "e42e6b8f-c341-4063-9bc4-b01d729f73ad"
      },
      "execution_count": 7,
      "outputs": [
        {
          "output_type": "stream",
          "name": "stdout",
          "text": [
            "Non-zero elements of the array arr: [1 2 4]\n"
          ]
        }
      ]
    },
    {
      "cell_type": "code",
      "source": [
        "#5. Create a 10x10 array with random values and find the minimum and maximum values.\n",
        "a = np.random.random((10,10))\n",
        "amin, amax = a.min(), a.max()\n",
        "print(amin, amax)"
      ],
      "metadata": {
        "colab": {
          "base_uri": "https://localhost:8080/"
        },
        "id": "QvSJ0LmcSkrZ",
        "outputId": "ea9f46a2-5474-4181-900e-b22c75f4a10e"
      },
      "execution_count": 8,
      "outputs": [
        {
          "output_type": "stream",
          "name": "stdout",
          "text": [
            "0.024571499929508245 0.9954036716914726\n"
          ]
        }
      ]
    },
    {
      "cell_type": "code",
      "source": [
        "#6. Create a random vector of size 30 and find the mean value.\n",
        "\n",
        "a = np.random.random(30)\n",
        "b = a.mean()\n",
        "print(b)\n"
      ],
      "metadata": {
        "colab": {
          "base_uri": "https://localhost:8080/"
        },
        "id": "qnY4NRL-SWRq",
        "outputId": "ebf9d218-0f50-499c-8a47-956349f95df4"
      },
      "execution_count": 9,
      "outputs": [
        {
          "output_type": "stream",
          "name": "stdout",
          "text": [
            "0.49938449091624637\n"
          ]
        }
      ]
    }
  ]
}